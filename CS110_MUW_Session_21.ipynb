{
 "cells": [
  {
   "cell_type": "markdown",
   "id": "8f75e634",
   "metadata": {},
   "source": [
    "## 3️⃣ - PCW Problems \n",
    "\n",
    "### Part A\n",
    "\n",
    "**Q1:** Let's start with a recursive top-down, naive solution to the rod cutting problem. Please complete the cut_rod function below:"
   ]
  },
  {
   "cell_type": "code",
   "execution_count": 24,
   "id": "c21a2f0a",
   "metadata": {},
   "outputs": [],
   "source": [
    "def cut_rod(p, n):\n",
    "    \"\"\"\n",
    "    A recursive top-down solution to the rod cutting problem as described in \n",
    "    Cormen et. al. (pp 363) This calculates the maximum revenue that could be \n",
    "    earned by cutting up a rod of length n.\n",
    "    Parameters\n",
    "    ----------\n",
    "    p\n",
    "        list of floats, the prices of rods of different lengths. p[i] gives the \n",
    "    dollars of revenue the company earns selling a rod of length i+1.\n",
    "    n\n",
    "        int, length of the rod\n",
    "    Returns\n",
    "    -------\n",
    "    q\n",
    "        float, the optimal revenue\n",
    "    \"\"\"\n",
    "    \n",
    "    # check edgecase if there is no rod\n",
    "    \n",
    "    if n == 0:  \n",
    "        return 0\n",
    "    \n",
    "    # maximum revenue to negative inf\n",
    "    l = float('-inf')  \n",
    "    \n",
    "    # iterate over the pieces \n",
    "    for cut in range(n):\n",
    "        l = max(l, p[cut]+cut_rod(p, n-cut-1))\n",
    "    \n",
    "    return l\n"
   ]
  },
  {
   "cell_type": "code",
   "execution_count": 25,
   "id": "734fffab",
   "metadata": {},
   "outputs": [
    {
     "name": "stdout",
     "output_type": "stream",
     "text": [
      "Checking the solution for maximum revenue of length 1...\n",
      "\t✅ passed test!\n",
      "Checking the solution for maximum revenue of length 2...\n",
      "\t✅ passed test!\n",
      "Checking the solution for maximum revenue of length 3...\n",
      "\t✅ passed test!\n",
      "Checking the solution for maximum revenue of length 4...\n",
      "\t✅ passed test!\n",
      "Checking the solution for maximum revenue of length 5...\n",
      "\t✅ passed test!\n",
      "Checking the solution for maximum revenue of length 6...\n",
      "\t✅ passed test!\n",
      "Checking the solution for maximum revenue of length 7...\n",
      "\t✅ passed test!\n",
      "Checking the solution for maximum revenue of length 8...\n",
      "\t✅ passed test!\n",
      "Checking the solution for maximum revenue of length 9...\n",
      "\t✅ passed test!\n",
      "Checking the solution for maximum revenue of length 10...\n",
      "\t✅ passed test!\n",
      "Checking the solution for maximum revenue of length 11...\n",
      "\t✅ passed test!\n"
     ]
    }
   ],
   "source": [
    "#tests \n",
    "\n",
    "\n",
    "# price list from the textbook\n",
    "# p[i] gives the price of length i+1\n",
    "p = [1,5,8,9,10,17,17,20,24,30] \n",
    "\n",
    "# revenue (optimal) results from the textbook\n",
    "r = [0,1,5,8,10,13,17,18,22,25,30]\n",
    "for i in range(len(r)):\n",
    "    print(f\"Checking the solution for maximum revenue of length {i+1}...\")\n",
    "    try:\n",
    "        assert(cut_rod(p, i)==r[i])\n",
    "        print(\"\\t✅ passed test!\")\n",
    "    except:\n",
    "        print(\"\\t🐞 Found a bug, please review your code.\")\n",
    "        break"
   ]
  },
  {
   "cell_type": "markdown",
   "id": "b063b335",
   "metadata": {},
   "source": [
    "**Q2:** Now, let's code an optimal rod cutting solution using dynamic programming (see figure here for inspiration). This is the extended_bottom_up_cut_rod function, whose output is later used by the print_cut_rod_solution function to obtain the optimal solution. Please complete the following two functions:"
   ]
  },
  {
   "cell_type": "code",
   "execution_count": 26,
   "id": "20d09aba",
   "metadata": {},
   "outputs": [],
   "source": [
    "def extended_bottom_up_cut_rod(p,n):\n",
    "    \"\"\"\n",
    "    Implements a bottom-up dynamic programming approach to the rod cutting problem.\n",
    "    Here, \"extended\" means the function is geared in a way amenable to reconstructing\n",
    "    an optimal solution, on top of the returned optimal value. See Cormen et al.,\n",
    "    p. 269 for the implementation details.\n",
    "    Parameters\n",
    "    ----------\n",
    "    p\n",
    "        list of floats, the prices of rods of different lengths. p[i] gives the dollars\n",
    "    of revenue the company earns selling a rod of length i+1.\n",
    "    n\n",
    "        int, length of the rod\n",
    "    Returns\n",
    "    -------\n",
    "    r\n",
    "        list of floats, the maximum revenues. r[i] gives the maximum revenue for a rod of length i. As such:\n",
    "        * r[0] = 0\n",
    "        * len(r) = n + 1\n",
    "    s\n",
    "        list of ints, the optimal sizes of the first piece to cut off. Also make sure that:\n",
    "        * s[0] = 0\n",
    "        * len(s) = n + 1\n",
    "    \"\"\"\n",
    "    #initialize lists of zeros for r and s\n",
    "    r = [0]*(n+1)\n",
    "    s = [0]*(n+1)\n",
    "    \n",
    "    #iterate through all the different first cut sizes\n",
    "    for j in range(1, n+1):\n",
    "        \n",
    "        #initialize a negative sentinel value for the revenue\n",
    "        q = -float('inf')\n",
    "        \n",
    "        #for every cut, if the new revenue is larger, then store it\n",
    "        #and store the size of the cut\n",
    "        for i in range(j):\n",
    "            \n",
    "            if q < p[i] + r[j-i-1]:\n",
    "                q = p[i] + r[j-i-1]\n",
    "                s[j] = i + 1\n",
    "        \n",
    "        #store the optimal revenue\n",
    "        r[j] = q\n",
    "    return r, s\n",
    "    \n",
    "\n",
    "def print_cut_rod_solution(p,n):\n",
    "    \"\"\"\n",
    "    Gives a solution to the rod cutting problem of size n. \n",
    "    Parameters\n",
    "    ----------\n",
    "    p\n",
    "    \tlist of floats, the prices of rods of different lengths. p[i] gives the revenue (in USD, for example) the company earns selling a rod of length i+1.\n",
    "    n\n",
    "    \tint, length of the rod\n",
    "    Returns\n",
    "    -------\n",
    "    sol\n",
    "    \ta list of ints, indicating how to cut the rod. Cutting the rod with the lengths given in sol gives the optimal revenue.\n",
    "    \"\"\"\n",
    "    r, s = extended_bottom_up_cut_rod(p,n)\n",
    "    \n",
    "    while n > 0:\n",
    "        print(s[n])\n",
    "        n = n - s[n]\n",
    "        "
   ]
  },
  {
   "cell_type": "code",
   "execution_count": 27,
   "id": "1b2fabbc",
   "metadata": {},
   "outputs": [],
   "source": [
    "# price list from the textbook\n",
    "# p[i] gives the price of length i+1\n",
    "p = [1,5,8,9,10,17,17,20,24,30] \n",
    "\n",
    "# results of optimal revenues and sizes from the textbook:\n",
    "revenues_results = [0,1,5,8,10,13,17,18,22,25,30]\n",
    "sizes_results = [0,1,2,3,2,2,6,1,2,3,10]\n",
    "\n",
    "# testing\n",
    "r, s = extended_bottom_up_cut_rod(p, 10)\n",
    "assert(r == revenues_results)\n",
    "assert(s == sizes_results)"
   ]
  },
  {
   "cell_type": "markdown",
   "id": "215ef87c",
   "metadata": {},
   "source": [
    "**Part B - Experiments**\n",
    "\n",
    "**Q3:** Use the function below to generate a list of prices of length n=20 and assign that list to a new variable, p_20. You MUST use this list for questions 4 and 5 below."
   ]
  },
  {
   "cell_type": "code",
   "execution_count": 28,
   "id": "abd43dbc",
   "metadata": {},
   "outputs": [
    {
     "data": {
      "text/plain": [
       "[1, 2, 3, 8, 9, 14, 15, 20, 21, 26, 27, 32, 33, 38, 39, 44, 45, 50, 51, 56]"
      ]
     },
     "execution_count": 28,
     "metadata": {},
     "output_type": "execute_result"
    }
   ],
   "source": [
    "import numpy as np\n",
    "def generate_price_list(n):\n",
    "    \"\"\"\n",
    "    Generates a price list of length n\n",
    "    Parameters\n",
    "    ----------\n",
    "    n\n",
    "    \tinteger, length of the list, must be positive\n",
    "    Returns\n",
    "    ----------\n",
    "    p\n",
    "    \tlist, the ordered price list for each rod cut\n",
    "    \"\"\"\n",
    "    \n",
    "    p = [1]\n",
    "    for i in range(1, n):\n",
    "        np.random.seed(0)\n",
    "        p.append(np.random.randint(p[i-1]+1, i*3+1))\n",
    "    return p\n",
    "\n",
    "#calling function \n",
    "p_20 = generate_price_list(20)\n",
    "p_20\n"
   ]
  },
  {
   "cell_type": "markdown",
   "id": "ba7c6339",
   "metadata": {},
   "source": [
    "**Q4:** Time (using the time library) the implementation of cut_rod for different rod lengths for values of up to n=20. Present your results in a plot."
   ]
  },
  {
   "cell_type": "code",
   "execution_count": 29,
   "id": "4dac15e6",
   "metadata": {},
   "outputs": [
    {
     "data": {
      "text/plain": [
       "<matplotlib.legend.Legend at 0x7fa748782e80>"
      ]
     },
     "execution_count": 29,
     "metadata": {},
     "output_type": "execute_result"
    },
    {
     "data": {
      "image/png": "[encoded data removed]",
      "text/plain": [
       "<Figure size 432x288 with 1 Axes>"
      ]
     },
     "metadata": {
      "needs_background": "light"
     },
     "output_type": "display_data"
    }
   ],
   "source": [
    "## your code here\n",
    "\n",
    "import time\n",
    "import matplotlib.pyplot as plt\n",
    "\n",
    "n = [i for i in range(1, 21)]\n",
    "\n",
    "# measure time\n",
    "times = []\n",
    "for val in n:\n",
    "    start_time = time.time()\n",
    "    cut_rod(p_20, val)\n",
    "    end_time = time.time()\n",
    "    times.append(end_time - start_time)\n",
    "    \n",
    "    \n",
    "\n",
    "# plot\n",
    "plt.plot(n, times, label = 'cut_rod')\n",
    "plt.xlabel(\"n length\")\n",
    "plt.ylabel(\"Time (sec)\")\n",
    "plt.legend()\n"
   ]
  },
  {
   "cell_type": "markdown",
   "id": "87630b65",
   "metadata": {},
   "source": [
    "**Q5:** Time (using the time library) the implementation of extended_bottom_up_cut_rod for different rod lengths for values of up to = n=20. Add the curve corresponding to this algorithm to the previous plot. That is, below, we should see two clear curves within the same plot (please review all the critical elements of your #dataviz for a successful implementation of this HC)."
   ]
  },
  {
   "cell_type": "code",
   "execution_count": 30,
   "id": "7f75a9d7",
   "metadata": {},
   "outputs": [
    {
     "data": {
      "text/plain": [
       "<matplotlib.legend.Legend at 0x7fa748d5ea90>"
      ]
     },
     "execution_count": 30,
     "metadata": {},
     "output_type": "execute_result"
    },
    {
     "data": {
      "image/png": "[encoded data removed]",
      "text/plain": [
       "<Figure size 432x288 with 1 Axes>"
      ]
     },
     "metadata": {
      "needs_background": "light"
     },
     "output_type": "display_data"
    }
   ],
   "source": [
    "## your code here\n",
    "\n",
    "import time\n",
    "import matplotlib.pyplot as plt\n",
    "\n",
    "n = [i for i in range(1, 21)]\n",
    "\n",
    "# measure time for cut rod\n",
    "times = []\n",
    "for val in n:\n",
    "    start_time = time.time()\n",
    "    cut_rod(p_20, val)\n",
    "    end_time = time.time()\n",
    "    times.append(end_time - start_time)\n",
    "\n",
    "# measure time for extended cut rod\n",
    "times_ext = []\n",
    "for val in n:\n",
    "    start_time = time.time()\n",
    "    extended_bottom_up_cut_rod(p_20, val)\n",
    "    end_time = time.time()\n",
    "    times_ext.append(end_time - start_time)\n",
    "    \n",
    "# plot\n",
    "plt.plot(n, times, label = 'cut_rod')\n",
    "plt.plot(n, times_ext,  label = 'extended_bottom_up_cut_rod')\n",
    "plt.xlabel(\"n length\")\n",
    "plt.ylabel(\"Time (sec)\")\n",
    "plt.legend()"
   ]
  },
  {
   "cell_type": "markdown",
   "id": "27f6d4fe",
   "metadata": {},
   "source": [
    "**Q6:** Contrast both curves. What can you conclude and why? Are the experimental results in agreement with what you expected? Refer to specific elements of the plot above, and include any other theoretical aspects that you deem relevant.\n",
    "\n",
    "The dynamic programming approach, represented by the extended_bottom_up_cut_rod curve, has a relatively flat curve compared to the naive approach, represented by the cut_rod curve, which shows a steep increase in execution time with longer rod lengths. This highlights the efficiency of the bottom-up approach of dynamic programming over the recursive top-down approach of the naive solution, which becomes increasingly inefficient with larger rod lengths due to redundant calculations and overlapping subproblems. These results clearly demonstrate that dynamic programming is the better choice for solving the rod-cutting problem. (87 words)\n",
    "\n",
    "**Part C - After completing your experiments above, answer the following questions:**\n",
    "\n",
    "**Q7:** Estimate how big n has to be before the non-dynamic-programming version, implemented via the cut_rod function, will take a million years to finish. Call this value n_onemillion.\n",
    "\n",
    "For n = 20, the time in sec is around 0.5, for one million years using the big O notation:"
   ]
  },
  {
   "cell_type": "code",
   "execution_count": 31,
   "id": "f7bfbb46",
   "metadata": {},
   "outputs": [
    {
     "name": "stdout",
     "output_type": "stream",
     "text": [
      "44.84302309963356\n"
     ]
    }
   ],
   "source": [
    "import math\n",
    "\n",
    "#2^N\n",
    "\n",
    "n_onemillion = math.log(31556952*10**6)/math.log(2)\n",
    "print(n_onemillion)"
   ]
  },
  {
   "cell_type": "markdown",
   "id": "885f8e72",
   "metadata": {},
   "source": [
    "**Q8:** Estimate (or time) how long it takes to evaluate extended_bottom_up_cut_rod(p, n_onemillion), where n_onemillion is the value you got from the previous question."
   ]
  },
  {
   "cell_type": "code",
   "execution_count": 32,
   "id": "4560826e",
   "metadata": {},
   "outputs": [
    {
     "name": "stdout",
     "output_type": "stream",
     "text": [
      "Analytically:\n",
      "2010.8967207142693 sec\n",
      "33.51494534523782 min\n",
      "6.372278034691909e-05 years\n",
      "-------\n",
      "Practically:\n",
      "0.00018400000000006855 secs\n"
     ]
    }
   ],
   "source": [
    "print('Analytically:')\n",
    "print(n_onemillion**2, 'sec')\n",
    "print(n_onemillion**2/60, 'min')\n",
    "print(n_onemillion**2/31556952, 'years')\n",
    "print('-------')\n",
    "\n",
    "ttime = 0\n",
    "p = generate_price_list(45)\n",
    "for i in range(50):\n",
    "    start = time.process_time()\n",
    "    extended_bottom_up_cut_rod(p, 45)\n",
    "    end = time.process_time()\n",
    "    ttime += end - start\n",
    "\n",
    "avgtime = ttime/50\n",
    "print('Practically:')\n",
    "print(avgtime, 'secs')"
   ]
  },
  {
   "cell_type": "markdown",
   "id": "204d49d0",
   "metadata": {},
   "source": [
    "**Q9:** Do you notice anything peculiar about the solution for large n? Explain your answer in connection to #ComplexityAnalysis (~50 words)."
   ]
  },
  {
   "cell_type": "markdown",
   "id": "e6105ab1",
   "metadata": {},
   "source": [
    "Extended_bottom_up_cut_rod algorithm has a time complexity of O(n^2) for large input sizes, where execution time grows fourfold when input size doubles. The time taken to find the optimal solution increases proportionally to the square of the input size. In contrast, the recursive approach has an exponential time complexity of O(2^n), and even a small change in input size can significantly increase the running time. Dynamic programming is a more efficient and appropriate method for handling multiple instances of this problem. (80 words)"
   ]
  },
  {
   "cell_type": "code",
   "execution_count": null,
   "id": "679a6eb3",
   "metadata": {},
   "outputs": [],
   "source": []
  }
 ],
 "metadata": {
  "kernelspec": {
   "display_name": "Python 3 (ipykernel)",
   "language": "python",
   "name": "python3"
  },
  "language_info": {
   "codemirror_mode": {
    "name": "ipython",
    "version": 3
   },
   "file_extension": ".py",
   "mimetype": "text/x-python",
   "name": "python",
   "nbconvert_exporter": "python",
   "pygments_lexer": "ipython3",
   "version": "3.9.12"
  }
 },
 "nbformat": 4,
 "nbformat_minor": 5
}
