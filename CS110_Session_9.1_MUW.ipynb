{
 "cells": [
  {
   "cell_type": "markdown",
   "id": "ba84573a",
   "metadata": {},
   "source": [
    "## PCWbook Session 9.1"
   ]
  },
  {
   "cell_type": "markdown",
   "id": "880184a8",
   "metadata": {},
   "source": [
    "## 1️⃣ - Readings \n",
    "\n",
    "### Q1 \n",
    "\n",
    "Q: What is the role of randomization in the efficiency of several operations supported by a randomly-generated BST?\n",
    "\n",
    "A: Randomization has an important role in the efficiency of several operations supported by a randomly-generated BST. A randomly-generated BST ensures that the height of the tree is balanced on average, which results in an O(log n) time complexity for operations such as search, insertion, and deletion. In contrast, an unbalanced BST could lead to a worst-case time complexity of O(n) for these operations. Also, randomization allows for better distribution of nodes, reducing the likelihood of skewness in the tree. This ensures that each node's left and right subtree are roughly the same size, leading to better performance for operations such as selection and rank. Overall, randomization helps to maintain the balance and efficiency of the BST."
   ]
  },
  {
   "cell_type": "markdown",
   "id": "72506879",
   "metadata": {},
   "source": [
    "## 3️⃣ - PCW Problems \n",
    "### Q1"
   ]
  },
  {
   "cell_type": "code",
   "execution_count": null,
   "id": "8d9ef67b",
   "metadata": {},
   "outputs": [],
   "source": [
    "def depth(bst, node):\n",
    "    \"\"\"\n",
    "    Finds the depth of the node in a BST. Depth of root is 0.\n",
    "        \n",
    "    Parameters\n",
    "    ----------\n",
    "    bst: BinarySearchTree\n",
    "        The binary search tree where the node belongs to\n",
    "    node: Node\n",
    "        An existing node in the BST that we need to compute the depth of\n",
    "\n",
    "    Returns\n",
    "    ----------\n",
    "    int\n",
    "        the depth from root of the tree to node\n",
    "    \"\"\"\n",
    "\n",
    "    depth = 0\n",
    "    parent = node.parent\n",
    "    \n",
    "    # traversing through the parents until the root and count steps\n",
    "    while parent is not None:\n",
    "        depth += 1\n",
    "        parent = parent.parent\n",
    "    return depth"
   ]
  },
  {
   "cell_type": "markdown",
   "id": "9f3bbc30",
   "metadata": {},
   "source": [
    "### Q2 \n",
    "\n",
    "note: this code works in the \"explore\" function in the original PCWbook with the BST Class from the previous section in a hidden code cell. "
   ]
  },
  {
   "cell_type": "code",
   "execution_count": null,
   "id": "298a5357",
   "metadata": {},
   "outputs": [],
   "source": [
    "def average_comparisons(bst):\n",
    "    \"\"\"\n",
    "    Finds the average number of comparisons required \n",
    "    to search for a randomly chosen element of a standard BST. \n",
    "\n",
    "    Parameters\n",
    "    ----------\n",
    "    bst: BinarySearchTree\n",
    "        The binary search tree where we wish to find the average number of comparisons\n",
    "\n",
    "    Returns\n",
    "    ----------\n",
    "    float\n",
    "        the average number of comparisons\n",
    "    \"\"\"\n",
    "    \n",
    "    comparisons = 0\n",
    "    lst_nodes = bst.inorder()\n",
    "    if len(lst_nodes) == 0:\n",
    "        return None\n",
    "    # computes the average of all comparisons needed\n",
    "    for el in lst_nodes:\n",
    "        comparisons += depth(bst, bst.search(el)) + 1\n",
    "\n",
    "    return comparisons/len(lst_nodes)"
   ]
  },
  {
   "cell_type": "markdown",
   "id": "978c3bed",
   "metadata": {},
   "source": [
    "### Q3\n",
    "\n",
    "note: this code works in the \"explore\" function in the original PCWbook with the BST Class from the previous section in a hidden code cell. "
   ]
  },
  {
   "cell_type": "code",
   "execution_count": null,
   "id": "448bb23c",
   "metadata": {},
   "outputs": [],
   "source": [
    "def max_depth(bst):\n",
    "    \"\"\"\n",
    "    Finds the maximum depth of the node with brute-force approach.\n",
    "    \n",
    "    Input:\n",
    "    bst: BinarySearchTree\n",
    "        The binary search tree where the node belongs to\n",
    "    \n",
    "    Output:\n",
    "    h: int\n",
    "        The maximum depth in a node\n",
    "    \"\"\"\n",
    "    lst_nodes = bst.inorder()\n",
    "    lst_depths = []\n",
    "    # computes the depth of every node\n",
    "    if len(lst_nodes) == 0:\n",
    "        return 0\n",
    "    for el in lst_nodes:\n",
    "        lst_depths.append(depth(bst, bst.search(el)))\n",
    "    return max(lst_depths)\n",
    "    \n",
    "## testing your code\n",
    "bst = BinarySearchTree()\n",
    "nodes = [Node(15), Node(6), Node(18), Node(3), Node(7), \n",
    "         Node(17), Node(20), Node(2), Node(4)]\n",
    "for node in nodes:\n",
    "    bst.insert(node)\n",
    "print(max_depth(bst))\n",
    "\n",
    "# test\n",
    "assert(max_depth(bst) == 3)"
   ]
  },
  {
   "cell_type": "markdown",
   "id": "dfff0ade",
   "metadata": {},
   "source": [
    "### Q4 "
   ]
  },
  {
   "cell_type": "code",
   "execution_count": null,
   "id": "95f7b52c",
   "metadata": {},
   "outputs": [],
   "source": [
    "def avg_depth(bst):\n",
    "    \"\"\"\n",
    "    Computes the average depth of a BST\n",
    "    \n",
    "    Input:\n",
    "    bst: BinarySearchTree\n",
    "        The binary search tree\n",
    "    \n",
    "    Output:\n",
    "    - avg_d: float\n",
    "        Average depth of the binary search tree\n",
    "    \"\"\"\n",
    "    if average_comparisons(bst) == None:\n",
    "        return 0\n",
    "    return average_comparisons(bst)-1"
   ]
  },
  {
   "cell_type": "markdown",
   "id": "2c6a2456",
   "metadata": {},
   "source": [
    "### Q5\n",
    "\n",
    "note: this code works in the \"explore\" function in the original PCWbook with the BST Class from the previous section in a hidden code cell.\n",
    "\n",
    "\n",
    "Q: Now, insert randomly shuffled lists into BSTs, and measure the average depth and the maximum depth. How do these statistics scale as you increase 𝑁, the number of nodes? \n",
    "\n",
    "A: Based on the plot below, created by generating 50 random BSTs ranging in size from 0 to 1000 with a step of 10 and calculating the mean for two statistics, it looks like the scales of the statistics follow logarithmic patterns. Two graphs were then generated, where the x-axis represents the different input sizes and the curves represent the maximum and average depth for each size. "
   ]
  },
  {
   "cell_type": "code",
   "execution_count": null,
   "id": "c264e71b",
   "metadata": {},
   "outputs": [],
   "source": [
    "import random\n",
    "import matplotlib.pyplot as plt\n",
    "\n",
    "def lst_to_bst(lst_nodes):\n",
    "    \"\"\"\n",
    "    Creates a binary search tree object of a given list\n",
    "    \n",
    "    Input:\n",
    "    lst_nodes: list\n",
    "        The list of nodes to be inserted into the binary search tree\n",
    "    \n",
    "    Output:\n",
    "    bst: BinarySearchTree\n",
    "        The binary search tree\n",
    "    \"\"\"\n",
    "    \n",
    "    bst = BinarySearchTree()\n",
    "    for node in lst_nodes:\n",
    "        bst.insert(node)\n",
    "    return bst\n",
    "\n",
    "def random_lst_size_k(k):\n",
    "    \"\"\"\n",
    "    Returns a randomly generated list with a given size k\n",
    "    \n",
    "    Input:\n",
    "    k: Int\n",
    "        size of the randomly generated list\n",
    "    \n",
    "    Output:\n",
    "    lst_random: list of lists\n",
    "        List with 50 randomly generated lists inside\n",
    "    \"\"\"\n",
    "    lst_random = []\n",
    "    for i in range(50):\n",
    "        new_lst = []\n",
    "        for j in range(k):\n",
    "            new_lst.append(random.randint(0, 99))\n",
    "        lst_random.append(new_lst)\n",
    "    return lst_random\n",
    "\n",
    "# main\n",
    "input_sizes = [i for i in range(0, 1000, 10)]\n",
    "results_avg_depth = []\n",
    "results_max_depth = []\n",
    "for input_size in input_sizes:\n",
    "    avg_depths = []\n",
    "    max_depths = []\n",
    "    for bst in random_lst_size_k(input_size):\n",
    "        current_tree = lst_to_bst(bst)\n",
    "        avg_depths.append(avg_depth(current_tree))\n",
    "        max_depths.append(max_depth(current_tree))\n",
    "    avg_depth_mean = sum(avg_depths) / len(avg_depths)\n",
    "    max_depth_mean = sum(max_depths) / len(max_depths)\n",
    "    results_avg_depth.append(avg_depth_mean)\n",
    "    results_max_depth.append(max_depth_mean)\n",
    "\n",
    "plt.plot(input_sizes, results_avg_depth, label='Average Depth')\n",
    "plt.plot(input_sizes, results_max_depth, label='Max Depth')\n",
    "plt.xlabel('Input Size')\n",
    "plt.ylabel('Tree Depth')\n",
    "plt.title('Binary Search Tree Depth vs. Input Size')\n",
    "plt.legend()\n",
    "plt.show()"
   ]
  },
  {
   "cell_type": "markdown",
   "id": "d3cccb7e",
   "metadata": {},
   "source": [
    "### Q6 \n",
    "\n",
    "Q: Is the plot above in agreement with the theoretically expected result? Explain.\n",
    "\n",
    "A: According to Cormen et al. (2015), we can expect the height of a randomly constructed binary search tree with n distinct keys to have an expected value of O(logn). This expectation aligns with the curve representing the maximum depth of the tree, which essentially reflects the height of the tree."
   ]
  },
  {
   "cell_type": "code",
   "execution_count": null,
   "id": "3245fbf9",
   "metadata": {},
   "outputs": [],
   "source": []
  }
 ],
 "metadata": {
  "kernelspec": {
   "display_name": "Python 3 (ipykernel)",
   "language": "python",
   "name": "python3"
  },
  "language_info": {
   "codemirror_mode": {
    "name": "ipython",
    "version": 3
   },
   "file_extension": ".py",
   "mimetype": "text/x-python",
   "name": "python",
   "nbconvert_exporter": "python",
   "pygments_lexer": "ipython3",
   "version": "3.9.12"
  }
 },
 "nbformat": 4,
 "nbformat_minor": 5
}
